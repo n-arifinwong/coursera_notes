{
 "cells": [
  {
   "cell_type": "markdown",
   "id": "cc53a9f6",
   "metadata": {},
   "source": [
    "# 1. Initializations"
   ]
  },
  {
   "cell_type": "code",
   "execution_count": 1,
   "id": "19860e24",
   "metadata": {
    "scrolled": true
   },
   "outputs": [
    {
     "name": "stdout",
     "output_type": "stream",
     "text": [
      "Requirement already satisfied: pandas in /opt/anaconda3/lib/python3.9/site-packages (1.3.4)\n",
      "Requirement already satisfied: dash in /opt/anaconda3/lib/python3.9/site-packages (3.2.0)\n",
      "Requirement already satisfied: python-dateutil>=2.7.3 in /opt/anaconda3/lib/python3.9/site-packages (from pandas) (2.8.2)\n",
      "Requirement already satisfied: pytz>=2017.3 in /opt/anaconda3/lib/python3.9/site-packages (from pandas) (2021.3)\n",
      "Requirement already satisfied: numpy>=1.17.3 in /opt/anaconda3/lib/python3.9/site-packages (from pandas) (1.20.3)\n",
      "Requirement already satisfied: typing-extensions>=4.1.1 in /opt/anaconda3/lib/python3.9/site-packages (from dash) (4.15.0)\n",
      "Requirement already satisfied: Werkzeug<3.2 in /opt/anaconda3/lib/python3.9/site-packages (from dash) (2.0.2)\n",
      "Requirement already satisfied: requests in /opt/anaconda3/lib/python3.9/site-packages (from dash) (2.26.0)\n",
      "Requirement already satisfied: plotly>=5.0.0 in /opt/anaconda3/lib/python3.9/site-packages (from dash) (6.3.0)\n",
      "Requirement already satisfied: importlib-metadata in /opt/anaconda3/lib/python3.9/site-packages (from dash) (4.8.1)\n",
      "Requirement already satisfied: nest-asyncio in /opt/anaconda3/lib/python3.9/site-packages (from dash) (1.5.1)\n",
      "Requirement already satisfied: setuptools in /opt/anaconda3/lib/python3.9/site-packages (from dash) (58.0.4)\n",
      "Requirement already satisfied: retrying in /opt/anaconda3/lib/python3.9/site-packages (from dash) (1.4.2)\n",
      "Requirement already satisfied: Flask<3.2,>=1.0.4 in /opt/anaconda3/lib/python3.9/site-packages (from dash) (1.1.2)\n",
      "Requirement already satisfied: itsdangerous>=0.24 in /opt/anaconda3/lib/python3.9/site-packages (from Flask<3.2,>=1.0.4->dash) (2.0.1)\n",
      "Requirement already satisfied: click>=5.1 in /opt/anaconda3/lib/python3.9/site-packages (from Flask<3.2,>=1.0.4->dash) (8.0.3)\n",
      "Requirement already satisfied: Jinja2>=2.10.1 in /opt/anaconda3/lib/python3.9/site-packages (from Flask<3.2,>=1.0.4->dash) (3.1.6)\n",
      "Requirement already satisfied: MarkupSafe>=2.0 in /opt/anaconda3/lib/python3.9/site-packages (from Jinja2>=2.10.1->Flask<3.2,>=1.0.4->dash) (3.0.3)\n",
      "Requirement already satisfied: packaging in /opt/anaconda3/lib/python3.9/site-packages (from plotly>=5.0.0->dash) (25.0)\n",
      "Requirement already satisfied: narwhals>=1.15.1 in /opt/anaconda3/lib/python3.9/site-packages (from plotly>=5.0.0->dash) (2.5.0)\n",
      "Requirement already satisfied: six>=1.5 in /opt/anaconda3/lib/python3.9/site-packages (from python-dateutil>=2.7.3->pandas) (1.16.0)\n",
      "Requirement already satisfied: zipp>=0.5 in /opt/anaconda3/lib/python3.9/site-packages (from importlib-metadata->dash) (3.6.0)\n",
      "Requirement already satisfied: charset-normalizer~=2.0.0 in /opt/anaconda3/lib/python3.9/site-packages (from requests->dash) (2.0.4)\n",
      "Requirement already satisfied: certifi>=2017.4.17 in /opt/anaconda3/lib/python3.9/site-packages (from requests->dash) (2021.10.8)\n",
      "Requirement already satisfied: idna<4,>=2.5 in /opt/anaconda3/lib/python3.9/site-packages (from requests->dash) (3.2)\n",
      "Requirement already satisfied: urllib3<1.27,>=1.21.1 in /opt/anaconda3/lib/python3.9/site-packages (from requests->dash) (1.26.7)\n"
     ]
    }
   ],
   "source": []
  },
  {
   "cell_type": "code",
   "execution_count": null,
   "id": "0c0f8112",
   "metadata": {},
   "outputs": [],
   "source": []
  }
 ],
 "metadata": {
  "kernelspec": {
   "display_name": "Python 3 (ipykernel)",
   "language": "python",
   "name": "python3"
  },
  "language_info": {
   "codemirror_mode": {
    "name": "ipython",
    "version": 3
   },
   "file_extension": ".py",
   "mimetype": "text/x-python",
   "name": "python",
   "nbconvert_exporter": "python",
   "pygments_lexer": "ipython3",
   "version": "3.9.7"
  }
 },
 "nbformat": 4,
 "nbformat_minor": 5
}
